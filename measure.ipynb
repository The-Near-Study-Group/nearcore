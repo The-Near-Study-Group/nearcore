{
 "cells": [
  {
   "cell_type": "code",
   "execution_count": 1,
   "id": "c8b7ec94",
   "metadata": {},
   "outputs": [],
   "source": [
    "import pandas as pd\n",
    "\n",
    "with open('/tmp/measure.txt', 'r') as f:\n",
    "    lines = f.read().splitlines()\n",
    "    data = list(map(lambda a: list(map(int, a.split(' '))), lines))"
   ]
  },
  {
   "cell_type": "code",
   "execution_count": 7,
   "id": "091fa945",
   "metadata": {},
   "outputs": [
    {
     "data": {
      "text/plain": [
       "count    2501.000000\n",
       "mean        0.010757\n",
       "std         0.144119\n",
       "min        -0.851512\n",
       "25%        -0.016940\n",
       "50%        -0.000046\n",
       "75%         0.017546\n",
       "max         0.958986\n",
       "dtype: float64"
      ]
     },
     "execution_count": 7,
     "metadata": {},
     "output_type": "execute_result"
    }
   ],
   "source": [
    "df = pd.DataFrame(data, columns=['T1', 'T2'])\n",
    "p = (df.T2 - df.T1) / (df.T2 + df.T1) * 2\n",
    "p.describe()"
   ]
  },
  {
   "cell_type": "code",
   "execution_count": null,
   "id": "9b06b0a7",
   "metadata": {},
   "outputs": [],
   "source": []
  }
 ],
 "metadata": {
  "kernelspec": {
   "display_name": "Python 3",
   "language": "python",
   "name": "python3"
  },
  "language_info": {
   "codemirror_mode": {
    "name": "ipython",
    "version": 3
   },
   "file_extension": ".py",
   "mimetype": "text/x-python",
   "name": "python",
   "nbconvert_exporter": "python",
   "pygments_lexer": "ipython3",
   "version": "3.7.3"
  }
 },
 "nbformat": 4,
 "nbformat_minor": 5
}
